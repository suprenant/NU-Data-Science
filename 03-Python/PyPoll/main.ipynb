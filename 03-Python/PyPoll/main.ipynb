{
 "cells": [
  {
   "cell_type": "code",
   "execution_count": 3,
   "metadata": {},
   "outputs": [],
   "source": [
    "# Modules, including counter\n",
    "import os\n",
    "import csv\n",
    "from collections import Counter"
   ]
  },
  {
   "cell_type": "code",
   "execution_count": 4,
   "metadata": {},
   "outputs": [],
   "source": [
    "# Path to collect data from Resources folder\n",
    "election_data_csv = os.path.join('Resources', 'election_data.csv')"
   ]
  },
  {
   "cell_type": "code",
   "execution_count": 5,
   "metadata": {},
   "outputs": [],
   "source": [
    "# Create variables and lists to hold data from file\n",
    "voter_id = []\n",
    "candidate = []\n",
    "\n",
    "#Open file\n",
    "with open(election_data_csv, newline='') as election_data_file:\n",
    "    # CSV reader specifies delimiter and variable to hold contents\n",
    "    election_data_contents = csv.reader(election_data_file, delimiter=',')\n",
    "    # Skip header\n",
    "    header = next(election_data_contents) \n",
    "    for row in election_data_contents:\n",
    "        voter_id.append(row[0])\n",
    "        candidate.append(row[2])\n",
    "    \n",
    "# Set variable for count of total amount of votes\n",
    "total_votes = len(voter_id)\n",
    "\n",
    "# Set variable for number of unique candidates\n",
    "unique_candidates = len(set(candidate))\n",
    "\n",
    "# Set variable to count how many votes each candidate receieved\n",
    "c = Counter(candidate)    \n",
    "\n",
    "# Set variable for winner (candidate getting most votes)\n",
    "winner = c.most_common(1)"
   ]
  },
  {
   "cell_type": "code",
   "execution_count": 6,
   "metadata": {},
   "outputs": [
    {
     "name": "stdout",
     "output_type": "stream",
     "text": [
      "Election Results\n",
      "-------------------------\n",
      "Total votes: 3521001\n",
      "Unique candidates: 4\n",
      "-------------------------\n",
      "Khan: 63.0% (2218231)\n",
      "Correy: 20.0% (704200)\n",
      "Li: 14.0% (492940)\n",
      "O'Tooley: 3.0% (105630)\n",
      "-------------------------\n",
      "Winner: Khan\n",
      "-------------------------\n"
     ]
    }
   ],
   "source": [
    "# Print everything\n",
    "print(\"Election Results\")\n",
    "print(\"-------------------------\")\n",
    "print(\"Total votes: \" + str(total_votes))\n",
    "print(\"Unique candidates: \" + str(unique_candidates))\n",
    "print(\"-------------------------\")\n",
    "#Loop through values in counter and print the name and vote\n",
    "for i in c:        \n",
    "    print(f\"{i}: {round((c[i] / total_votes * 100),1)}% ({c[i]})\")\n",
    "print(\"-------------------------\")\n",
    "\n",
    "# The winner of the election based on popular vote.\n",
    "print(\"Winner: \" + winner[0][0])    \n",
    "print(\"-------------------------\")"
   ]
  },
  {
   "cell_type": "code",
   "execution_count": 7,
   "metadata": {},
   "outputs": [],
   "source": [
    "# Specify text file for exporting/writing results\n",
    "output_path = os.path.join(\"export.txt\")"
   ]
  },
  {
   "cell_type": "code",
   "execution_count": 8,
   "metadata": {},
   "outputs": [],
   "source": [
    "# Open file using \"write\" mode. Specify variable to hold contents\n",
    "with open(output_path, 'w', newline='') as csvfile:\n",
    "\n",
    "    # Initialize csv.writer\n",
    "    csvwriter = csv.writer(csvfile, delimiter=',')\n",
    "\n",
    "    # Write the rows\n",
    "    csvwriter.writerow([\"Election Results\"])\n",
    "    csvwriter.writerow([\"----------------------------\"])\n",
    "    csvwriter.writerow([\"Total votes: \" + str(total_votes)])\n",
    "    csvwriter.writerow([\"Unique candidates: \" + str(unique_candidates)])\n",
    "    csvwriter.writerow([\"----------------------------\"])\n",
    "    for i in c: csvwriter.writerow([f\"{i}: {round((c[i] / total_votes * 100),1)}% ({c[i]})\"])    \n",
    "    csvwriter.writerow([\"----------------------------\"])\n",
    "    csvwriter.writerow([\"Winner: \" + winner[0][0]])\n",
    "    csvwriter.writerow([\"----------------------------\"])"
   ]
  }
 ],
 "metadata": {
  "kernelspec": {
   "display_name": "Python 3",
   "language": "python",
   "name": "python3"
  },
  "language_info": {
   "codemirror_mode": {
    "name": "ipython",
    "version": 3
   },
   "file_extension": ".py",
   "mimetype": "text/x-python",
   "name": "python",
   "nbconvert_exporter": "python",
   "pygments_lexer": "ipython3",
   "version": "3.7.4"
  }
 },
 "nbformat": 4,
 "nbformat_minor": 2
}
