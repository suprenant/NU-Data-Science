{
 "cells": [
  {
   "cell_type": "code",
   "execution_count": 2,
   "metadata": {},
   "outputs": [],
   "source": [
    "# Modules\n",
    "import os\n",
    "import csv"
   ]
  },
  {
   "cell_type": "code",
   "execution_count": 3,
   "metadata": {},
   "outputs": [],
   "source": [
    "# Path to collect data from Resources folder\n",
    "budget_data_csv = os.path.join('Resources', 'budget_data.csv')"
   ]
  },
  {
   "cell_type": "code",
   "execution_count": 4,
   "metadata": {},
   "outputs": [],
   "source": [
    "# Create variables and lists\n",
    "date = []\n",
    "profit_loss = []\n",
    "netchange_list = []\n",
    "greatest_increase = [\"\", 0]\n",
    "greatest_decrease = [\"\", 9999999999999999999]"
   ]
  },
  {
   "cell_type": "code",
   "execution_count": 5,
   "metadata": {},
   "outputs": [],
   "source": [
    "#Open file\n",
    "with open(budget_data_csv, newline='') as budget_data_file:\n",
    "    # CSV reader specifies delimiter and variable to hold contents\n",
    "    budget_data_contents = csv.reader(budget_data_file, delimiter=',')\n",
    "    # Skip header\n",
    "    header = next(budget_data_contents) \n",
    "    firstrow = next(budget_data_contents)\n",
    "    previous = int(firstrow[1])\n",
    "    for row in budget_data_contents:\n",
    "        date.append(row[0])\n",
    "        profit_loss.append(row[1])\n",
    "        netchange = int(row[1]) - previous\n",
    "        previous = int(row[1])\n",
    "        netchange_list = netchange_list + [netchange]\n",
    "# Set variables for indicies for max/min profit and loss\n",
    "## Calculate change between each month, add to a list\n",
    "        if netchange > greatest_increase[1]: \n",
    "            greatest_increase[0] = row[0]\n",
    "            greatest_increase[1] = netchange\n",
    "        if netchange < greatest_decrease[1]: \n",
    "            greatest_decrease[0] = row[0]\n",
    "            greatest_decrease[1] = netchange\n",
    "        \n",
    "# Set variable for count of total amount of months\n",
    "total_months = len(date)\n",
    "\n",
    "# Set variable, converting strings to integer and return a list\n",
    "profit_loss_int = list(map(int,profit_loss))\n",
    "\n",
    "# Set variable for total profit and loss\n",
    "total_profit_loss = sum(profit_loss_int)\n",
    "\n",
    "# Set variable for average (total profit and loss divided by total months)\n",
    "average_change = sum(netchange_list) / len(netchange_list)"
   ]
  },
  {
   "cell_type": "code",
   "execution_count": 6,
   "metadata": {},
   "outputs": [
    {
     "name": "stdout",
     "output_type": "stream",
     "text": [
      "Financial Analysis\n",
      "----------------------------\n",
      "Total months: 85\n",
      "Total: $37514694\n",
      "Average change: $-2315.12\n",
      "Greatest increase in profits: Feb-2012 (1926159)\n",
      "Greatest decrease in profits: Sep-2013 (-2196167)\n"
     ]
    }
   ],
   "source": [
    "# Print everything\n",
    "print(\"Financial Analysis\")\n",
    "print(\"----------------------------\")\n",
    "print(\"Total months: \" + str(total_months))\n",
    "print(\"Total: $\" + str(total_profit_loss))\n",
    "print(\"Average change: $\" + str(round(average_change , 2)))\n",
    "print(\"Greatest increase in profits: \" + str(greatest_increase[0]) + \" (\" + str(greatest_increase[1]) + \")\")\n",
    "print(\"Greatest decrease in profits: \" + str(greatest_decrease[0]) + \" (\" + str(greatest_decrease[1]) + \")\")"
   ]
  },
  {
   "cell_type": "code",
   "execution_count": 7,
   "metadata": {},
   "outputs": [],
   "source": [
    "# Specify text file to export/write the results to\n",
    "output_path = os.path.join(\"export.txt\")"
   ]
  },
  {
   "cell_type": "code",
   "execution_count": 8,
   "metadata": {},
   "outputs": [],
   "source": [
    "# Open the file using \"write\" mode. Specify the variable to hold the contents\n",
    "with open(output_path, 'w', newline='') as csvfile:\n",
    "\n",
    "    # Initialize csv.writer\n",
    "    csvwriter = csv.writer(csvfile, delimiter=',')\n",
    "\n",
    "    # Write the rows\n",
    "    csvwriter.writerow([\"Financial Analysis\"])\n",
    "    csvwriter.writerow([\"----------------------------\"])\n",
    "    csvwriter.writerow([\"Total months: \" + str(total_months)])\n",
    "    csvwriter.writerow([\"Total: $\" + str(total_profit_loss)])\n",
    "    csvwriter.writerow([\"Average change: $\" + str(round(average_change , 2))])\n",
    "    csvwriter.writerow([\"Greatest increase in profits: \" + str(greatest_increase[0]) + \" (\" + str(greatest_increase[1]) + \")\"])\n",
    "    csvwriter.writerow([\"Greatest decrease in profits: \" + str(greatest_decrease[0]) + \" (\" + str(greatest_decrease[1]) + \")\"])"
   ]
  }
 ],
 "metadata": {
  "kernelspec": {
   "display_name": "Python 3",
   "language": "python",
   "name": "python3"
  },
  "language_info": {
   "codemirror_mode": {
    "name": "ipython",
    "version": 3
   },
   "file_extension": ".py",
   "mimetype": "text/x-python",
   "name": "python",
   "nbconvert_exporter": "python",
   "pygments_lexer": "ipython3",
   "version": "3.7.4"
  }
 },
 "nbformat": 4,
 "nbformat_minor": 2
}
